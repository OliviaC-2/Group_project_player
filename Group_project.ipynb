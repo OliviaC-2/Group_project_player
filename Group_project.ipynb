{
 "cells": [
  {
   "cell_type": "markdown",
   "id": "4b5578e2-fa81-4ea5-af54-cbff713ad7c2",
   "metadata": {},
   "source": [
    "**Title**"
   ]
  },
  {
   "cell_type": "code",
   "execution_count": 1,
   "id": "ecd30b8a-7464-42aa-832b-0dee5aec8703",
   "metadata": {},
   "outputs": [
    {
     "name": "stderr",
     "output_type": "stream",
     "text": [
      "── \u001b[1mAttaching core tidyverse packages\u001b[22m ──────────────────────── tidyverse 2.0.0 ──\n",
      "\u001b[32m✔\u001b[39m \u001b[34mdplyr    \u001b[39m 1.1.4     \u001b[32m✔\u001b[39m \u001b[34mreadr    \u001b[39m 2.1.5\n",
      "\u001b[32m✔\u001b[39m \u001b[34mforcats  \u001b[39m 1.0.0     \u001b[32m✔\u001b[39m \u001b[34mstringr  \u001b[39m 1.5.1\n",
      "\u001b[32m✔\u001b[39m \u001b[34mggplot2  \u001b[39m 3.5.1     \u001b[32m✔\u001b[39m \u001b[34mtibble   \u001b[39m 3.2.1\n",
      "\u001b[32m✔\u001b[39m \u001b[34mlubridate\u001b[39m 1.9.3     \u001b[32m✔\u001b[39m \u001b[34mtidyr    \u001b[39m 1.3.1\n",
      "\u001b[32m✔\u001b[39m \u001b[34mpurrr    \u001b[39m 1.0.2     \n",
      "── \u001b[1mConflicts\u001b[22m ────────────────────────────────────────── tidyverse_conflicts() ──\n",
      "\u001b[31m✖\u001b[39m \u001b[34mdplyr\u001b[39m::\u001b[32mfilter()\u001b[39m masks \u001b[34mstats\u001b[39m::filter()\n",
      "\u001b[31m✖\u001b[39m \u001b[34mdplyr\u001b[39m::\u001b[32mlag()\u001b[39m    masks \u001b[34mstats\u001b[39m::lag()\n",
      "\u001b[36mℹ\u001b[39m Use the conflicted package (\u001b[3m\u001b[34m<http://conflicted.r-lib.org/>\u001b[39m\u001b[23m) to force all conflicts to become errors\n"
     ]
    }
   ],
   "source": [
    "# Libraries must be loaded in\n",
    "\n",
    "library(tidyverse)\n",
    "library(dplyr)"
   ]
  },
  {
   "cell_type": "markdown",
   "id": "3cbe0153-0f34-4040-bdd5-9685969a556e",
   "metadata": {},
   "source": [
    "### Loading in and tidying the data set"
   ]
  },
  {
   "cell_type": "code",
   "execution_count": 3,
   "id": "b84e38e5-3520-4b7f-a8ad-d51aede19cd4",
   "metadata": {},
   "outputs": [
    {
     "name": "stderr",
     "output_type": "stream",
     "text": [
      "\u001b[1mRows: \u001b[22m\u001b[34m196\u001b[39m \u001b[1mColumns: \u001b[22m\u001b[34m7\u001b[39m\n",
      "\u001b[36m──\u001b[39m \u001b[1mColumn specification\u001b[22m \u001b[36m────────────────────────────────────────────────────────\u001b[39m\n",
      "\u001b[1mDelimiter:\u001b[22m \",\"\n",
      "\u001b[31mchr\u001b[39m (4): experience, hashedEmail, name, gender\n",
      "\u001b[32mdbl\u001b[39m (2): played_hours, Age\n",
      "\u001b[33mlgl\u001b[39m (1): subscribe\n",
      "\n",
      "\u001b[36mℹ\u001b[39m Use `spec()` to retrieve the full column specification for this data.\n",
      "\u001b[36mℹ\u001b[39m Specify the column types or set `show_col_types = FALSE` to quiet this message.\n"
     ]
    },
    {
     "data": {
      "text/html": [
       "<table class=\"dataframe\">\n",
       "<caption>A tibble: 6 × 3</caption>\n",
       "<thead>\n",
       "\t<tr><th scope=col>Age</th><th scope=col>experience</th><th scope=col>played_hours</th></tr>\n",
       "\t<tr><th scope=col>&lt;dbl&gt;</th><th scope=col>&lt;fct&gt;</th><th scope=col>&lt;dbl&gt;</th></tr>\n",
       "</thead>\n",
       "<tbody>\n",
       "\t<tr><td> 9</td><td>Pro    </td><td>30.3</td></tr>\n",
       "\t<tr><td>17</td><td>Veteran</td><td> 3.8</td></tr>\n",
       "\t<tr><td>17</td><td>Veteran</td><td> 0.0</td></tr>\n",
       "\t<tr><td>21</td><td>Amateur</td><td> 0.7</td></tr>\n",
       "\t<tr><td>21</td><td>Regular</td><td> 0.1</td></tr>\n",
       "\t<tr><td>17</td><td>Amateur</td><td> 0.0</td></tr>\n",
       "</tbody>\n",
       "</table>\n"
      ],
      "text/latex": [
       "A tibble: 6 × 3\n",
       "\\begin{tabular}{lll}\n",
       " Age & experience & played\\_hours\\\\\n",
       " <dbl> & <fct> & <dbl>\\\\\n",
       "\\hline\n",
       "\t  9 & Pro     & 30.3\\\\\n",
       "\t 17 & Veteran &  3.8\\\\\n",
       "\t 17 & Veteran &  0.0\\\\\n",
       "\t 21 & Amateur &  0.7\\\\\n",
       "\t 21 & Regular &  0.1\\\\\n",
       "\t 17 & Amateur &  0.0\\\\\n",
       "\\end{tabular}\n"
      ],
      "text/markdown": [
       "\n",
       "A tibble: 6 × 3\n",
       "\n",
       "| Age &lt;dbl&gt; | experience &lt;fct&gt; | played_hours &lt;dbl&gt; |\n",
       "|---|---|---|\n",
       "|  9 | Pro     | 30.3 |\n",
       "| 17 | Veteran |  3.8 |\n",
       "| 17 | Veteran |  0.0 |\n",
       "| 21 | Amateur |  0.7 |\n",
       "| 21 | Regular |  0.1 |\n",
       "| 17 | Amateur |  0.0 |\n",
       "\n"
      ],
      "text/plain": [
       "  Age experience played_hours\n",
       "1  9  Pro        30.3        \n",
       "2 17  Veteran     3.8        \n",
       "3 17  Veteran     0.0        \n",
       "4 21  Amateur     0.7        \n",
       "5 21  Regular     0.1        \n",
       "6 17  Amateur     0.0        "
      ]
     },
     "metadata": {},
     "output_type": "display_data"
    }
   ],
   "source": [
    "players <- read_csv(\"https://raw.githubusercontent.com/dsci100projectonly/dataforproject/refs/heads/main/players.csv\")\n",
    "players <- players |> mutate(experience = as.factor(experience)) |> drop_na() \n",
    "## NA values that were deemed to not have a suitable reason to be present is being dropped\n",
    "## Representing experience as a factor is more suitable for its limited classifications\n",
    "players <- players |> select(Age, experience, played_hours)\n",
    "## Selecting only the relevant variables to answer the posed question of this project\n",
    "head(players)\n",
    "## Utilizing head() function to reduce output for easier reading and analysis\n",
    "\n",
    "\n"
   ]
  },
  {
   "cell_type": "code",
   "execution_count": null,
   "id": "0d766656-c7aa-49b4-a75c-4db4cdfdc792",
   "metadata": {},
   "outputs": [],
   "source": []
  }
 ],
 "metadata": {
  "kernelspec": {
   "display_name": "R",
   "language": "R",
   "name": "ir"
  },
  "language_info": {
   "codemirror_mode": "r",
   "file_extension": ".r",
   "mimetype": "text/x-r-source",
   "name": "R",
   "pygments_lexer": "r",
   "version": "4.3.3"
  }
 },
 "nbformat": 4,
 "nbformat_minor": 5
}
