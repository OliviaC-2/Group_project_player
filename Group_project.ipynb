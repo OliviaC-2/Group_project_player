{
 "cells": [
  {
   "cell_type": "markdown",
   "id": "4b5578e2-fa81-4ea5-af54-cbff713ad7c2",
   "metadata": {},
   "source": [
    "**Title**"
   ]
  },
  {
   "cell_type": "code",
   "execution_count": null,
   "id": "ecd30b8a-7464-42aa-832b-0dee5aec8703",
   "metadata": {},
   "outputs": [],
   "source": []
  }
 ],
 "metadata": {
  "kernelspec": {
   "display_name": "R",
   "language": "R",
   "name": "ir"
  },
  "language_info": {
   "codemirror_mode": "r",
   "file_extension": ".r",
   "mimetype": "text/x-r-source",
   "name": "R",
   "pygments_lexer": "r",
   "version": "4.3.3"
  }
 },
 "nbformat": 4,
 "nbformat_minor": 5
}
