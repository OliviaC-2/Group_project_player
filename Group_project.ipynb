{
 "cells": [
  {
   "cell_type": "markdown",
   "id": "4b5578e2-fa81-4ea5-af54-cbff713ad7c2",
   "metadata": {},
   "source": [
    "**Title**"
   ]
  },
  {
   "cell_type": "code",
   "execution_count": 7,
   "id": "ecd30b8a-7464-42aa-832b-0dee5aec8703",
   "metadata": {},
   "outputs": [
    {
     "name": "stderr",
     "output_type": "stream",
     "text": [
      "── \u001b[1mAttaching packages\u001b[22m ────────────────────────────────────── tidymodels 1.1.1 ──\n",
      "\n",
      "\u001b[32m✔\u001b[39m \u001b[34mbroom       \u001b[39m 1.0.6     \u001b[32m✔\u001b[39m \u001b[34mrsample     \u001b[39m 1.2.1\n",
      "\u001b[32m✔\u001b[39m \u001b[34mdials       \u001b[39m 1.3.0     \u001b[32m✔\u001b[39m \u001b[34mtune        \u001b[39m 1.1.2\n",
      "\u001b[32m✔\u001b[39m \u001b[34minfer       \u001b[39m 1.0.7     \u001b[32m✔\u001b[39m \u001b[34mworkflows   \u001b[39m 1.1.4\n",
      "\u001b[32m✔\u001b[39m \u001b[34mmodeldata   \u001b[39m 1.4.0     \u001b[32m✔\u001b[39m \u001b[34mworkflowsets\u001b[39m 1.0.1\n",
      "\u001b[32m✔\u001b[39m \u001b[34mparsnip     \u001b[39m 1.2.1     \u001b[32m✔\u001b[39m \u001b[34myardstick   \u001b[39m 1.3.1\n",
      "\u001b[32m✔\u001b[39m \u001b[34mrecipes     \u001b[39m 1.1.0     \n",
      "\n",
      "── \u001b[1mConflicts\u001b[22m ───────────────────────────────────────── tidymodels_conflicts() ──\n",
      "\u001b[31m✖\u001b[39m \u001b[34mscales\u001b[39m::\u001b[32mdiscard()\u001b[39m masks \u001b[34mpurrr\u001b[39m::discard()\n",
      "\u001b[31m✖\u001b[39m \u001b[34mdplyr\u001b[39m::\u001b[32mfilter()\u001b[39m   masks \u001b[34mstats\u001b[39m::filter()\n",
      "\u001b[31m✖\u001b[39m \u001b[34mrecipes\u001b[39m::\u001b[32mfixed()\u001b[39m  masks \u001b[34mstringr\u001b[39m::fixed()\n",
      "\u001b[31m✖\u001b[39m \u001b[34mdplyr\u001b[39m::\u001b[32mlag()\u001b[39m      masks \u001b[34mstats\u001b[39m::lag()\n",
      "\u001b[31m✖\u001b[39m \u001b[34myardstick\u001b[39m::\u001b[32mspec()\u001b[39m masks \u001b[34mreadr\u001b[39m::spec()\n",
      "\u001b[31m✖\u001b[39m \u001b[34mrecipes\u001b[39m::\u001b[32mstep()\u001b[39m   masks \u001b[34mstats\u001b[39m::step()\n",
      "\u001b[34m•\u001b[39m Use suppressPackageStartupMessages() to eliminate package startup messages\n",
      "\n",
      "Registered S3 method overwritten by 'GGally':\n",
      "  method from   \n",
      "  +.gg   ggplot2\n",
      "\n"
     ]
    }
   ],
   "source": [
    "# Libraries must be loaded in\n",
    "\n",
    "library(tidyverse)\n",
    "library(repr)\n",
    "library(tidymodels)\n",
    "library(GGally)\n",
    "library(ISLR)"
   ]
  },
  {
   "cell_type": "markdown",
   "id": "3cbe0153-0f34-4040-bdd5-9685969a556e",
   "metadata": {},
   "source": [
    "### Loading in and tidying the data set"
   ]
  },
  {
   "cell_type": "code",
   "execution_count": 8,
   "id": "b84e38e5-3520-4b7f-a8ad-d51aede19cd4",
   "metadata": {},
   "outputs": [
    {
     "name": "stderr",
     "output_type": "stream",
     "text": [
      "\u001b[1mRows: \u001b[22m\u001b[34m196\u001b[39m \u001b[1mColumns: \u001b[22m\u001b[34m7\u001b[39m\n",
      "\u001b[36m──\u001b[39m \u001b[1mColumn specification\u001b[22m \u001b[36m────────────────────────────────────────────────────────\u001b[39m\n",
      "\u001b[1mDelimiter:\u001b[22m \",\"\n",
      "\u001b[31mchr\u001b[39m (4): experience, hashedEmail, name, gender\n",
      "\u001b[32mdbl\u001b[39m (2): played_hours, Age\n",
      "\u001b[33mlgl\u001b[39m (1): subscribe\n",
      "\n",
      "\u001b[36mℹ\u001b[39m Use `spec()` to retrieve the full column specification for this data.\n",
      "\u001b[36mℹ\u001b[39m Specify the column types or set `show_col_types = FALSE` to quiet this message.\n"
     ]
    },
    {
     "data": {
      "text/html": [
       "<table class=\"dataframe\">\n",
       "<caption>A tibble: 6 × 3</caption>\n",
       "<thead>\n",
       "\t<tr><th scope=col>Age</th><th scope=col>experience</th><th scope=col>played_hours</th></tr>\n",
       "\t<tr><th scope=col>&lt;dbl&gt;</th><th scope=col>&lt;fct&gt;</th><th scope=col>&lt;dbl&gt;</th></tr>\n",
       "</thead>\n",
       "<tbody>\n",
       "\t<tr><td> 9</td><td>Pro    </td><td>30.3</td></tr>\n",
       "\t<tr><td>17</td><td>Veteran</td><td> 3.8</td></tr>\n",
       "\t<tr><td>17</td><td>Veteran</td><td> 0.0</td></tr>\n",
       "\t<tr><td>21</td><td>Amateur</td><td> 0.7</td></tr>\n",
       "\t<tr><td>21</td><td>Regular</td><td> 0.1</td></tr>\n",
       "\t<tr><td>17</td><td>Amateur</td><td> 0.0</td></tr>\n",
       "</tbody>\n",
       "</table>\n"
      ],
      "text/latex": [
       "A tibble: 6 × 3\n",
       "\\begin{tabular}{lll}\n",
       " Age & experience & played\\_hours\\\\\n",
       " <dbl> & <fct> & <dbl>\\\\\n",
       "\\hline\n",
       "\t  9 & Pro     & 30.3\\\\\n",
       "\t 17 & Veteran &  3.8\\\\\n",
       "\t 17 & Veteran &  0.0\\\\\n",
       "\t 21 & Amateur &  0.7\\\\\n",
       "\t 21 & Regular &  0.1\\\\\n",
       "\t 17 & Amateur &  0.0\\\\\n",
       "\\end{tabular}\n"
      ],
      "text/markdown": [
       "\n",
       "A tibble: 6 × 3\n",
       "\n",
       "| Age &lt;dbl&gt; | experience &lt;fct&gt; | played_hours &lt;dbl&gt; |\n",
       "|---|---|---|\n",
       "|  9 | Pro     | 30.3 |\n",
       "| 17 | Veteran |  3.8 |\n",
       "| 17 | Veteran |  0.0 |\n",
       "| 21 | Amateur |  0.7 |\n",
       "| 21 | Regular |  0.1 |\n",
       "| 17 | Amateur |  0.0 |\n",
       "\n"
      ],
      "text/plain": [
       "  Age experience played_hours\n",
       "1  9  Pro        30.3        \n",
       "2 17  Veteran     3.8        \n",
       "3 17  Veteran     0.0        \n",
       "4 21  Amateur     0.7        \n",
       "5 21  Regular     0.1        \n",
       "6 17  Amateur     0.0        "
      ]
     },
     "metadata": {},
     "output_type": "display_data"
    },
    {
     "data": {
      "text/html": [
       "<table class=\"dataframe\">\n",
       "<caption>A tibble: 6 × 3</caption>\n",
       "<thead>\n",
       "\t<tr><th scope=col>Age</th><th scope=col>experience</th><th scope=col>played_hours</th></tr>\n",
       "\t<tr><th scope=col>&lt;dbl&gt;</th><th scope=col>&lt;fct&gt;</th><th scope=col>&lt;dbl&gt;</th></tr>\n",
       "</thead>\n",
       "<tbody>\n",
       "\t<tr><td>17</td><td>Amateur</td><td>0.0</td></tr>\n",
       "\t<tr><td>20</td><td>Amateur</td><td>0.0</td></tr>\n",
       "\t<tr><td>17</td><td>Amateur</td><td>0.0</td></tr>\n",
       "\t<tr><td>22</td><td>Veteran</td><td>0.3</td></tr>\n",
       "\t<tr><td>17</td><td>Amateur</td><td>0.0</td></tr>\n",
       "\t<tr><td>17</td><td>Amateur</td><td>2.3</td></tr>\n",
       "</tbody>\n",
       "</table>\n"
      ],
      "text/latex": [
       "A tibble: 6 × 3\n",
       "\\begin{tabular}{lll}\n",
       " Age & experience & played\\_hours\\\\\n",
       " <dbl> & <fct> & <dbl>\\\\\n",
       "\\hline\n",
       "\t 17 & Amateur & 0.0\\\\\n",
       "\t 20 & Amateur & 0.0\\\\\n",
       "\t 17 & Amateur & 0.0\\\\\n",
       "\t 22 & Veteran & 0.3\\\\\n",
       "\t 17 & Amateur & 0.0\\\\\n",
       "\t 17 & Amateur & 2.3\\\\\n",
       "\\end{tabular}\n"
      ],
      "text/markdown": [
       "\n",
       "A tibble: 6 × 3\n",
       "\n",
       "| Age &lt;dbl&gt; | experience &lt;fct&gt; | played_hours &lt;dbl&gt; |\n",
       "|---|---|---|\n",
       "| 17 | Amateur | 0.0 |\n",
       "| 20 | Amateur | 0.0 |\n",
       "| 17 | Amateur | 0.0 |\n",
       "| 22 | Veteran | 0.3 |\n",
       "| 17 | Amateur | 0.0 |\n",
       "| 17 | Amateur | 2.3 |\n",
       "\n"
      ],
      "text/plain": [
       "  Age experience played_hours\n",
       "1 17  Amateur    0.0         \n",
       "2 20  Amateur    0.0         \n",
       "3 17  Amateur    0.0         \n",
       "4 22  Veteran    0.3         \n",
       "5 17  Amateur    0.0         \n",
       "6 17  Amateur    2.3         "
      ]
     },
     "metadata": {},
     "output_type": "display_data"
    }
   ],
   "source": [
    "players <- read_csv(\"https://raw.githubusercontent.com/dsci100projectonly/dataforproject/refs/heads/main/players.csv\")\n",
    "players <- players |> mutate(experience = as.factor(experience)) |> drop_na() \n",
    "## NA values that were deemed to not have a suitable reason to be present is being dropped\n",
    "## Representing experience as a factor is more suitable for its limited classifications\n",
    "players <- players |> select(Age, experience, played_hours)\n",
    "## Selecting only the relevant variables to answer the posed question of this project\n",
    "head(players)\n",
    "tail(players)\n",
    "## Utilizing head() and tail() function to reduce output for easier reading and analysis\n",
    "\n",
    "\n"
   ]
  },
  {
   "cell_type": "markdown",
   "id": "70104567-8e45-4ed9-9237-fb393bfe5d5b",
   "metadata": {},
   "source": [
    "## Preliminary Visualizations\n",
    "\n",
    "Prior to performing multi-linear regression in order to address our question, we will plot some preliminary visualizations in order to observe the relationships between the chosen variables which will provide certain insights regarding the current question and whether it can help find players that contribute most to the game."
   ]
  },
  {
   "cell_type": "code",
   "execution_count": 9,
   "id": "396dca07-5f9a-4deb-9592-b294c7ea7e03",
   "metadata": {},
   "outputs": [],
   "source": [
    "# Preliminary visualization 1: Line plot to observe whether there is a relationship between age and played_hours, determining whether age can be a suitable predictor\n",
    "\n"
   ]
  },
  {
   "cell_type": "markdown",
   "id": "54db95f2-b7f2-4bd7-b481-71d66c418bb4",
   "metadata": {},
   "source": [
    "### Creating Training and Testing Data Splits\n",
    "\n",
    "Prior to beginning our analysis and creating our regression model, the data must first be split into training and testing splits, where the split is a 65-35 train-test split."
   ]
  },
  {
   "cell_type": "code",
   "execution_count": 12,
   "id": "0eb0dcec-3825-4a67-a1cc-f96fea97d269",
   "metadata": {},
   "outputs": [],
   "source": [
    "# Assigning split to object player_split, with prop = 0.65 and strata = played_hours\n",
    "\n",
    "players_split <- players |> initial_split(prop = 0.65, strata = played_hours)\n",
    "\n",
    "players_train <- training(players_split)\n",
    "\n",
    "players_test <- testing(players_split)\n"
   ]
  },
  {
   "cell_type": "code",
   "execution_count": null,
   "id": "9de1289b-6e2b-43b9-9811-cbb97ed4429e",
   "metadata": {},
   "outputs": [],
   "source": []
  }
 ],
 "metadata": {
  "kernelspec": {
   "display_name": "R",
   "language": "R",
   "name": "ir"
  },
  "language_info": {
   "codemirror_mode": "r",
   "file_extension": ".r",
   "mimetype": "text/x-r-source",
   "name": "R",
   "pygments_lexer": "r",
   "version": "4.3.3"
  }
 },
 "nbformat": 4,
 "nbformat_minor": 5
}
